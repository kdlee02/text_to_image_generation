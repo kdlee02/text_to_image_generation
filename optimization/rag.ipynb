{
 "cells": [
  {
   "cell_type": "code",
   "execution_count": null,
   "id": "5ee81e0c",
   "metadata": {},
   "outputs": [],
   "source": [
    "from rag_chatbot import RAGChatbot\n",
    "\n",
    "# Initialize the RAG chatbot\n",
    "chatbot = RAGChatbot()\n",
    "\n",
    "# Directory containing the documents\n",
    "data_directory = \"/Users/jameslee/ohmybrand/text_to_image_generation/app/imagesdata/images_log.csv\"\n",
    "\n",
    "# Define a query to extract information from each document\n",
    "query = \"art gallery logo\"\n",
    "\n",
    "chatbot.upload_document(f'{data_directory}')\n",
    "response = chatbot.send_message(query)\n",
    "\n",
    "print(response)"
   ]
  },
  {
   "cell_type": "code",
   "execution_count": 45,
   "id": "52deeb44",
   "metadata": {},
   "outputs": [],
   "source": [
    "chatbot.upload_document(f'{data_directory}')\n",
    "response = chatbot.send_message(query)"
   ]
  },
  {
   "cell_type": "code",
   "execution_count": 46,
   "id": "c52dbaab",
   "metadata": {},
   "outputs": [
    {
     "data": {
      "text/plain": [
       "'Based on the provided context, here is the relevant information about the **art gallery logo** concept:\\n\\n- **Prompt**: \"logo for art galleries. Make a logo concept featuring bold pattern-based elements, rendered in the style of abstract art.\"  \\n- **Design Elements**:  \\n  - Combines **geometric grid patterns** with **fluid, painterly strokes** for a dynamic, bold composition.  \\n  - Explicitly includes the text **\"THE GALLERY\"** to denote its purpose.  \\n  - Styled as **abstract art**, aligning with contemporary design trends.  \\n- **Feedback**:  \\n  - The logo is described as **modern, artistic, and visually engaging**, perfectly matching the prompt.  \\n  - It functions as a **branding graphic** rather than a minimalist logo, which adds creative depth.  \\n- **Overall Score**: **9/10** (excellent interpretation).  \\n\\nYou can view the image [here](https://v3b.fal.media/files/b/rabbit/O5Mr3o_SsetfjkRIpQsjc_output.png).  \\n\\nLet me know if you\\'d like additional details!'"
      ]
     },
     "execution_count": 46,
     "metadata": {},
     "output_type": "execute_result"
    }
   ],
   "source": [
    "response"
   ]
  }
 ],
 "metadata": {
  "kernelspec": {
   "display_name": "base",
   "language": "python",
   "name": "python3"
  },
  "language_info": {
   "codemirror_mode": {
    "name": "ipython",
    "version": 3
   },
   "file_extension": ".py",
   "mimetype": "text/x-python",
   "name": "python",
   "nbconvert_exporter": "python",
   "pygments_lexer": "ipython3",
   "version": "3.12.0"
  }
 },
 "nbformat": 4,
 "nbformat_minor": 5
}
